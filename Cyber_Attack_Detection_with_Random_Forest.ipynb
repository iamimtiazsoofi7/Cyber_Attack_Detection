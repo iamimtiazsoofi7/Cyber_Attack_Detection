{
  "cells": [
    {
      "cell_type": "code",
      "execution_count": 3,
      "metadata": {
        "id": "5z7icpvDmPq2"
      },
      "outputs": [
        {
          "ename": "ModuleNotFoundError",
          "evalue": "No module named 'kagglehub'",
          "output_type": "error",
          "traceback": [
            "\u001b[0;31m---------------------------------------------------------------------------\u001b[0m",
            "\u001b[0;31mModuleNotFoundError\u001b[0m                       Traceback (most recent call last)",
            "Cell \u001b[0;32mIn[3], line 6\u001b[0m\n\u001b[1;32m      1\u001b[0m \u001b[39m# IMPORTANT: RUN THIS CELL IN ORDER TO IMPORT YOUR KAGGLE DATA SOURCES,\u001b[39;00m\n\u001b[1;32m      2\u001b[0m \u001b[39m# THEN FEEL FREE TO DELETE THIS CELL.\u001b[39;00m\n\u001b[1;32m      3\u001b[0m \u001b[39m# NOTE: THIS NOTEBOOK ENVIRONMENT DIFFERS FROM KAGGLE'S PYTHON\u001b[39;00m\n\u001b[1;32m      4\u001b[0m \u001b[39m# ENVIRONMENT SO THERE MAY BE MISSING LIBRARIES USED BY YOUR\u001b[39;00m\n\u001b[1;32m      5\u001b[0m \u001b[39m# NOTEBOOK.\u001b[39;00m\n\u001b[0;32m----> 6\u001b[0m \u001b[39mimport\u001b[39;00m \u001b[39mkagglehub\u001b[39;00m\n\u001b[1;32m      7\u001b[0m mrwellsdavid_unsw_nb15_path \u001b[39m=\u001b[39m kagglehub\u001b[39m.\u001b[39mdataset_download(\u001b[39m'\u001b[39m\u001b[39mmrwellsdavid/unsw-nb15\u001b[39m\u001b[39m'\u001b[39m)\n\u001b[1;32m      9\u001b[0m \u001b[39mprint\u001b[39m(\u001b[39m'\u001b[39m\u001b[39mData source import complete.\u001b[39m\u001b[39m'\u001b[39m)\n",
            "\u001b[0;31mModuleNotFoundError\u001b[0m: No module named 'kagglehub'"
          ]
        }
      ],
      "source": [
        "# IMPORTANT: RUN THIS CELL IN ORDER TO IMPORT YOUR KAGGLE DATA SOURCES,\n",
        "# THEN FEEL FREE TO DELETE THIS CELL.\n",
        "# NOTE: THIS NOTEBOOK ENVIRONMENT DIFFERS FROM KAGGLE'S PYTHON\n",
        "# ENVIRONMENT SO THERE MAY BE MISSING LIBRARIES USED BY YOUR\n",
        "# NOTEBOOK.\n",
        "import kagglehub\n",
        "mrwellsdavid_unsw_nb15_path = kagglehub.dataset_download('mrwellsdavid/unsw-nb15')\n",
        "\n",
        "print('Data source import complete.')\n"
      ]
    },
    {
      "cell_type": "markdown",
      "metadata": {
        "execution": {
          "iopub.execute_input": "2023-06-16T07:41:12.519995Z",
          "iopub.status.busy": "2023-06-16T07:41:12.5196Z",
          "iopub.status.idle": "2023-06-16T07:41:24.795763Z",
          "shell.execute_reply": "2023-06-16T07:41:24.79472Z",
          "shell.execute_reply.started": "2023-06-16T07:41:12.519963Z"
        },
        "id": "yDGWdsBMmPq3"
      },
      "source": [
        "## Detecting Cyber Attacks using machine learning\n",
        "\n",
        "* To improve cyber security, machine learning algorithms can be implemented to detect cyber attacks.\n",
        "* The approach involves analyzing network data to identify potential attacks by identifying correlations between various variables.\n",
        "* By leveraging machine learning algorithms, the accuracy and efficiency of cyber attack detection can be improved. It will enhance the security of digital networks and systems."
      ]
    },
    {
      "cell_type": "markdown",
      "metadata": {
        "id": "ipnv2ZaPmPq4"
      },
      "source": [
        "## Cyber attack data\n",
        "\n",
        "* The data is collected by the University of New South Wales (Australia). That includes records of different types of cyber attacks. The dataset contains network packets captured in the Cyber Range Lab of UNSW Canberra. The data is provided in two sets of training and testing data.\n",
        "\n",
        "* The dataset includes nine types of attacks, including:\n",
        "\n",
        "1. Fuzzers: Attack that involves sending random data to a system to test its resilience and identify any vulnerabilities.\n",
        "\n",
        "2. Analysis: A type of attack that involves analyzing the system to identify its weaknesses and potential targets for exploitation.\n",
        "\n",
        "3. Backdoors: Attack that involves creating a hidden entry point into a system for later use by the attacker.\n",
        "\n",
        "4. DoS (Denial of Service): Attack that aims to disrupt the normal functioning of a system, making it unavailable to its users.\n",
        "\n",
        "5. Exploits: Attack that leverages a vulnerability in a system to gain unauthorized access or control.\n",
        "\n",
        "6. Generic: A catch-all category that includes a variety of different attack types that do not fit into the other categories.\n",
        "\n",
        "7. Reconnaissance: Attack that involves gathering information about a target system, such as its vulnerabilities and potential entry points, in preparation for a future attack.\n",
        "\n",
        "8. Shellcode: Attack that involves executing malicious code, typically in the form of shell scripts, on a target system.\n",
        "\n",
        "9. Worms: A type of malware that spreads itself automatically to other systems, often causing harm in the process.\n",
        "\n",
        "* These nine categories cover a wide range of attack types that can be used to exploit a system, and it is important to be aware of them to protect against potential security threats."
      ]
    },
    {
      "cell_type": "markdown",
      "metadata": {
        "id": "y8gHal6RmPq5"
      },
      "source": [
        "## Installing Libraries"
      ]
    },
    {
      "cell_type": "code",
      "execution_count": null,
      "metadata": {
        "execution": {
          "iopub.execute_input": "2023-06-23T05:10:16.119732Z",
          "iopub.status.busy": "2023-06-23T05:10:16.11933Z",
          "iopub.status.idle": "2023-06-23T05:10:26.986546Z",
          "shell.execute_reply": "2023-06-23T05:10:26.985088Z",
          "shell.execute_reply.started": "2023-06-23T05:10:16.119702Z"
        },
        "id": "_fSsR0RnmPq5",
        "trusted": true
      },
      "outputs": [],
      "source": [
        "!pip install nbformat"
      ]
    },
    {
      "cell_type": "code",
      "execution_count": null,
      "metadata": {
        "execution": {
          "iopub.execute_input": "2023-06-23T05:10:26.989591Z",
          "iopub.status.busy": "2023-06-23T05:10:26.98921Z",
          "iopub.status.idle": "2023-06-23T05:10:37.780671Z",
          "shell.execute_reply": "2023-06-23T05:10:37.779236Z",
          "shell.execute_reply.started": "2023-06-23T05:10:26.989556Z"
        },
        "id": "hQ8xE-nomPq5",
        "trusted": true
      },
      "outputs": [],
      "source": [
        "!pip install graphviz"
      ]
    },
    {
      "cell_type": "code",
      "execution_count": null,
      "metadata": {
        "execution": {
          "iopub.execute_input": "2023-06-23T05:10:37.783164Z",
          "iopub.status.busy": "2023-06-23T05:10:37.782504Z",
          "iopub.status.idle": "2023-06-23T05:10:48.771794Z",
          "shell.execute_reply": "2023-06-23T05:10:48.77054Z",
          "shell.execute_reply.started": "2023-06-23T05:10:37.783122Z"
        },
        "id": "cIUz6tjxmPq6",
        "trusted": true
      },
      "outputs": [],
      "source": [
        "!pip install dtreeviz"
      ]
    },
    {
      "cell_type": "code",
      "execution_count": null,
      "metadata": {
        "execution": {
          "iopub.execute_input": "2023-06-23T05:10:48.77655Z",
          "iopub.status.busy": "2023-06-23T05:10:48.776071Z",
          "iopub.status.idle": "2023-06-23T05:10:48.785617Z",
          "shell.execute_reply": "2023-06-23T05:10:48.784761Z",
          "shell.execute_reply.started": "2023-06-23T05:10:48.776508Z"
        },
        "id": "BMTzUHF9mPq6",
        "trusted": true
      },
      "outputs": [],
      "source": [
        "import warnings\n",
        "warnings.filterwarnings('ignore')\n",
        "\n",
        "import numpy as np\n",
        "import pandas as pd\n",
        "import matplotlib.pyplot as plt\n",
        "import seaborn as sns\n",
        "%matplotlib inline\n",
        "\n",
        "sns.set_context('notebook')\n",
        "sns.set_style('white')\n",
        "\n",
        "import dtreeviz"
      ]
    },
    {
      "cell_type": "markdown",
      "metadata": {
        "id": "GE_HxLbwmPq7"
      },
      "source": [
        "## Data Preparation"
      ]
    },
    {
      "cell_type": "code",
      "execution_count": null,
      "metadata": {
        "execution": {
          "iopub.execute_input": "2023-06-23T05:10:48.787472Z",
          "iopub.status.busy": "2023-06-23T05:10:48.787135Z",
          "iopub.status.idle": "2023-06-23T05:10:50.002055Z",
          "shell.execute_reply": "2023-06-23T05:10:49.9986Z",
          "shell.execute_reply.started": "2023-06-23T05:10:48.787443Z"
        },
        "id": "hhYXCJiNmPq7",
        "trusted": true
      },
      "outputs": [],
      "source": [
        "training = pd.read_csv(\"/kaggle/input/unsw-nb15/UNSW_NB15_training-set.csv\")\n",
        "testing = pd.read_csv(\"/kaggle/input/unsw-nb15/UNSW_NB15_testing-set.csv\")\n",
        "print(\"training \",training.shape)\n",
        "print(\"testing \",testing.shape)"
      ]
    },
    {
      "cell_type": "code",
      "execution_count": null,
      "metadata": {
        "execution": {
          "iopub.execute_input": "2023-06-23T05:10:50.005061Z",
          "iopub.status.busy": "2023-06-23T05:10:50.004243Z",
          "iopub.status.idle": "2023-06-23T05:10:50.014488Z",
          "shell.execute_reply": "2023-06-23T05:10:50.013018Z",
          "shell.execute_reply.started": "2023-06-23T05:10:50.005021Z"
        },
        "id": "s6DK7XObmPq7",
        "trusted": true
      },
      "outputs": [],
      "source": [
        "all(training.columns == testing.columns)"
      ]
    },
    {
      "cell_type": "code",
      "execution_count": null,
      "metadata": {
        "execution": {
          "iopub.execute_input": "2023-06-23T05:10:50.016103Z",
          "iopub.status.busy": "2023-06-23T05:10:50.015737Z",
          "iopub.status.idle": "2023-06-23T05:10:50.257124Z",
          "shell.execute_reply": "2023-06-23T05:10:50.255931Z",
          "shell.execute_reply.started": "2023-06-23T05:10:50.016071Z"
        },
        "id": "P79Ns9somPq8",
        "trusted": true
      },
      "outputs": [],
      "source": [
        "df = pd.concat([training,testing]).drop('id',axis=1)\n",
        "df = df.reset_index(drop=True)\n",
        "\n",
        "df.head()"
      ]
    },
    {
      "cell_type": "code",
      "execution_count": null,
      "metadata": {
        "execution": {
          "iopub.execute_input": "2023-06-23T05:10:50.259488Z",
          "iopub.status.busy": "2023-06-23T05:10:50.258505Z",
          "iopub.status.idle": "2023-06-23T05:10:50.266965Z",
          "shell.execute_reply": "2023-06-23T05:10:50.265889Z",
          "shell.execute_reply.started": "2023-06-23T05:10:50.259444Z"
        },
        "id": "RGpQn_vImPq8",
        "trusted": true
      },
      "outputs": [],
      "source": [
        "df.columns"
      ]
    },
    {
      "cell_type": "code",
      "execution_count": null,
      "metadata": {
        "execution": {
          "iopub.execute_input": "2023-06-23T05:10:50.269646Z",
          "iopub.status.busy": "2023-06-23T05:10:50.268629Z",
          "iopub.status.idle": "2023-06-23T05:10:50.443784Z",
          "shell.execute_reply": "2023-06-23T05:10:50.442665Z",
          "shell.execute_reply.started": "2023-06-23T05:10:50.2696Z"
        },
        "id": "kiY18bc0mPq8",
        "trusted": true
      },
      "outputs": [],
      "source": [
        "df.info()"
      ]
    },
    {
      "cell_type": "code",
      "execution_count": null,
      "metadata": {
        "execution": {
          "iopub.execute_input": "2023-06-23T05:10:50.44913Z",
          "iopub.status.busy": "2023-06-23T05:10:50.44876Z",
          "iopub.status.idle": "2023-06-23T05:10:50.472633Z",
          "shell.execute_reply": "2023-06-23T05:10:50.471476Z",
          "shell.execute_reply.started": "2023-06-23T05:10:50.4491Z"
        },
        "id": "1FQYqMhAmPq8",
        "trusted": true
      },
      "outputs": [],
      "source": [
        "df.attack_cat.unique()"
      ]
    },
    {
      "cell_type": "markdown",
      "metadata": {
        "id": "lgZbXIhymPq8"
      },
      "source": [
        "## Categorical data"
      ]
    },
    {
      "cell_type": "code",
      "execution_count": null,
      "metadata": {
        "execution": {
          "iopub.execute_input": "2023-06-23T05:10:50.474894Z",
          "iopub.status.busy": "2023-06-23T05:10:50.474305Z",
          "iopub.status.idle": "2023-06-23T05:10:50.568221Z",
          "shell.execute_reply": "2023-06-23T05:10:50.566913Z",
          "shell.execute_reply.started": "2023-06-23T05:10:50.474851Z"
        },
        "id": "7f15CbFmmPq8",
        "trusted": true
      },
      "outputs": [],
      "source": [
        "for col in ['proto', 'service', 'state']:\n",
        "    df[col] = df[col].astype('category').cat.codes\n",
        "\n",
        "df['attack_cat'] = df['attack_cat'].astype('category')"
      ]
    },
    {
      "cell_type": "code",
      "execution_count": null,
      "metadata": {
        "execution": {
          "iopub.execute_input": "2023-06-23T05:10:50.570224Z",
          "iopub.status.busy": "2023-06-23T05:10:50.569774Z",
          "iopub.status.idle": "2023-06-23T05:10:50.597904Z",
          "shell.execute_reply": "2023-06-23T05:10:50.59651Z",
          "shell.execute_reply.started": "2023-06-23T05:10:50.570183Z"
        },
        "id": "Z4Q0YU2ZmPq8",
        "trusted": true
      },
      "outputs": [],
      "source": [
        "df.head()"
      ]
    },
    {
      "cell_type": "markdown",
      "metadata": {
        "id": "CtVkpSMKmPq8"
      },
      "source": [
        "## Visualizing attacks categories"
      ]
    },
    {
      "cell_type": "code",
      "execution_count": 2,
      "metadata": {
        "execution": {
          "iopub.execute_input": "2023-06-23T05:10:50.599498Z",
          "iopub.status.busy": "2023-06-23T05:10:50.599167Z",
          "iopub.status.idle": "2023-06-23T05:10:50.967545Z",
          "shell.execute_reply": "2023-06-23T05:10:50.966326Z",
          "shell.execute_reply.started": "2023-06-23T05:10:50.59947Z"
        },
        "id": "uPZBYZCqmPq8",
        "trusted": true
      },
      "outputs": [
        {
          "ename": "NameError",
          "evalue": "name 'df' is not defined",
          "output_type": "error",
          "traceback": [
            "\u001b[0;31m---------------------------------------------------------------------------\u001b[0m",
            "\u001b[0;31mNameError\u001b[0m                                 Traceback (most recent call last)",
            "Cell \u001b[0;32mIn[2], line 1\u001b[0m\n\u001b[0;32m----> 1\u001b[0m validAttacks \u001b[39m=\u001b[39m df[df[\u001b[39m'\u001b[39m\u001b[39mlabel\u001b[39m\u001b[39m'\u001b[39m]\u001b[39m==\u001b[39m\u001b[39m1\u001b[39m][\u001b[39m'\u001b[39m\u001b[39mattack_cat\u001b[39m\u001b[39m'\u001b[39m]\u001b[39m.\u001b[39mvalue_counts()\n\u001b[1;32m      2\u001b[0m \u001b[39mprint\u001b[39m(validAttacks)\n\u001b[1;32m      4\u001b[0m plt\u001b[39m.\u001b[39mfigure(figsize \u001b[39m=\u001b[39m (\u001b[39m15\u001b[39m,\u001b[39m8\u001b[39m))\n",
            "\u001b[0;31mNameError\u001b[0m: name 'df' is not defined"
          ]
        }
      ],
      "source": [
        "validAttacks = df[df['label']==1]['attack_cat'].value_counts()\n",
        "print(validAttacks)\n",
        "\n",
        "plt.figure(figsize = (15,8))\n",
        "plt.pie(validAttacks,labels = validAttacks.index, autopct = '%1.1f%%',explode = [0,0,0,0,0,0.2,0.2,0.2,0.2,1.2])\n",
        "plt.show()"
      ]
    },
    {
      "cell_type": "markdown",
      "metadata": {
        "id": "k2tgSgqhmPq9"
      },
      "source": [
        "* Generic and Exploits attacks are the most."
      ]
    },
    {
      "cell_type": "markdown",
      "metadata": {
        "id": "l53kytAamPq9"
      },
      "source": [
        "## Splitting data"
      ]
    },
    {
      "cell_type": "code",
      "execution_count": null,
      "metadata": {
        "execution": {
          "iopub.execute_input": "2023-06-23T05:10:50.969648Z",
          "iopub.status.busy": "2023-06-23T05:10:50.969221Z",
          "iopub.status.idle": "2023-06-23T05:10:51.090848Z",
          "shell.execute_reply": "2023-06-23T05:10:51.089736Z",
          "shell.execute_reply.started": "2023-06-23T05:10:50.969608Z"
        },
        "id": "Xzv77qwwmPq9",
        "trusted": true
      },
      "outputs": [],
      "source": [
        "from sklearn.model_selection import train_test_split\n",
        "\n",
        "X = df.drop(columns = ['attack_cat', 'label'])\n",
        "y = df['label'].values\n",
        "\n",
        "X_train, X_test, y_train, y_test = train_test_split(X, y, test_size=0.3, random_state=11)\n",
        "\n",
        "feature_names = list(X.columns)\n",
        "\n",
        "print(\"X_train shape: \", X_train.shape)\n",
        "print(\"y_train shape: \", y_train.shape)\n",
        "print(\"X_test shape: \", X_test.shape)\n",
        "print(\"y_test shape: \", y_test.shape)"
      ]
    },
    {
      "cell_type": "markdown",
      "metadata": {
        "id": "dQwggSO1mPq9"
      },
      "source": [
        "## Decision Tree Model :\n",
        "* Using a decision tree model to create a set of criteria for detecting cyber attacks. Conducting a grid search to optimize the model toward maximizing recall. Recall rate should be high to create the first layer of protection."
      ]
    },
    {
      "cell_type": "code",
      "execution_count": null,
      "metadata": {
        "execution": {
          "iopub.execute_input": "2023-06-23T05:10:51.093047Z",
          "iopub.status.busy": "2023-06-23T05:10:51.092379Z",
          "iopub.status.idle": "2023-06-23T05:12:23.338911Z",
          "shell.execute_reply": "2023-06-23T05:12:23.337562Z",
          "shell.execute_reply.started": "2023-06-23T05:10:51.093007Z"
        },
        "id": "9Tw44ehZmPq9",
        "trusted": true
      },
      "outputs": [],
      "source": [
        "from sklearn.tree import DecisionTreeClassifier\n",
        "from sklearn.model_selection import GridSearchCV\n",
        "\n",
        "param_grid = {\n",
        "    'criterion': ['gini', 'entropy'],\n",
        "    'max_depth': [2, 4],\n",
        "    'min_samples_split': [2, 4],\n",
        "    'min_samples_leaf': [1, 2]\n",
        "}\n",
        "\n",
        "dt = DecisionTreeClassifier()\n",
        "\n",
        "grid_search = GridSearchCV(dt, param_grid, cv=5, scoring='recall')\n",
        "grid_search.fit(X_train, y_train)\n",
        "\n",
        "print(\"Best parameters:\", grid_search.best_params_)\n",
        "print(\"Best recall score:\", grid_search.best_score_)"
      ]
    },
    {
      "cell_type": "code",
      "execution_count": null,
      "metadata": {
        "execution": {
          "iopub.execute_input": "2023-06-23T05:12:23.341323Z",
          "iopub.status.busy": "2023-06-23T05:12:23.340822Z",
          "iopub.status.idle": "2023-06-23T05:12:24.395686Z",
          "shell.execute_reply": "2023-06-23T05:12:24.394525Z",
          "shell.execute_reply.started": "2023-06-23T05:12:23.341278Z"
        },
        "id": "-5mAVaoQmPq9",
        "trusted": true
      },
      "outputs": [],
      "source": [
        "from sklearn.metrics import recall_score\n",
        "from sklearn.metrics import accuracy_score\n",
        "\n",
        "clf=grid_search.best_estimator_\n",
        "clf.fit(X_train,y_train)\n",
        "y_pred = clf.predict(X_test)\n",
        "\n",
        "recall = recall_score(y_test, y_pred)\n",
        "print(\"Recall: \", recall)"
      ]
    },
    {
      "cell_type": "markdown",
      "metadata": {
        "id": "N8oD7xI1mPq9"
      },
      "source": [
        "## Visualizing the rules"
      ]
    },
    {
      "cell_type": "code",
      "execution_count": null,
      "metadata": {
        "execution": {
          "iopub.execute_input": "2023-06-23T05:12:24.397768Z",
          "iopub.status.busy": "2023-06-23T05:12:24.397329Z",
          "iopub.status.idle": "2023-06-23T05:12:47.507536Z",
          "shell.execute_reply": "2023-06-23T05:12:47.506491Z",
          "shell.execute_reply.started": "2023-06-23T05:12:24.397727Z"
        },
        "id": "c_mqgJ-ymPq9",
        "trusted": true
      },
      "outputs": [],
      "source": [
        "from sklearn.tree import export_text\n",
        "import dtreeviz\n",
        "\n",
        "print(\":::::::> The RULES FOR HIGH RECALL RATE <::::::: \\n\" ,export_text(clf,feature_names=feature_names))\n",
        "\n",
        "viz_model = dtreeviz.model(clf,\n",
        "                           X_train=X_train, y_train=y_train,\n",
        "                           feature_names=feature_names)\n",
        "viz_model.view()"
      ]
    },
    {
      "cell_type": "markdown",
      "metadata": {
        "id": "jvqcZop9mPq9"
      },
      "source": [
        "* From the decision tree, we visualized the rule of tree as sttl<=61 and sttl>61"
      ]
    },
    {
      "cell_type": "markdown",
      "metadata": {
        "id": "jUWin8gAmPq9"
      },
      "source": [
        "## Filtering data for potential attacks"
      ]
    },
    {
      "cell_type": "code",
      "execution_count": null,
      "metadata": {
        "execution": {
          "iopub.execute_input": "2023-06-23T05:12:47.509247Z",
          "iopub.status.busy": "2023-06-23T05:12:47.508898Z",
          "iopub.status.idle": "2023-06-23T05:12:47.543847Z",
          "shell.execute_reply": "2023-06-23T05:12:47.542597Z",
          "shell.execute_reply.started": "2023-06-23T05:12:47.509218Z"
        },
        "id": "Dpr_d3aNmPq9",
        "trusted": true
      },
      "outputs": [],
      "source": [
        "X_test = X_test.reset_index(drop=True)\n",
        "\n",
        "rules= \"(sttl <= 61.00 & sinpkt<= 0.00) | (sttl >  61.00 )\"\n",
        "\n",
        "ind = X_test.query(rules).index\n",
        "\n",
        "X_test_2 = X_test.loc[ind,:]\n",
        "y_test_2 = y_test[ind]\n",
        "\n",
        "print(X_test.shape)\n",
        "print(X_test_2.shape)\n",
        "print(\"filtered data\" , (1- np.round(X_test_2.shape[0] / X_test.shape[0],2))*100, \"%\")"
      ]
    },
    {
      "cell_type": "markdown",
      "metadata": {
        "id": "4e2xTFBEmPq-"
      },
      "source": [
        "* The rule based system filtered 23% of network traffic for further analysis, demonstrating its efficacy in detecting non-threatening network activity. Now, we will detect cyber attacks by applying the trained model to the filtered test data."
      ]
    },
    {
      "cell_type": "code",
      "execution_count": null,
      "metadata": {
        "execution": {
          "iopub.execute_input": "2023-06-23T05:12:47.545456Z",
          "iopub.status.busy": "2023-06-23T05:12:47.545118Z",
          "iopub.status.idle": "2023-06-23T05:12:47.550593Z",
          "shell.execute_reply": "2023-06-23T05:12:47.549421Z",
          "shell.execute_reply.started": "2023-06-23T05:12:47.545427Z"
        },
        "id": "Es_OLdN4mPq-",
        "trusted": true
      },
      "outputs": [],
      "source": [
        "from sklearn.metrics import accuracy_score, precision_score"
      ]
    },
    {
      "cell_type": "code",
      "execution_count": null,
      "metadata": {
        "execution": {
          "iopub.execute_input": "2023-06-23T05:12:47.552552Z",
          "iopub.status.busy": "2023-06-23T05:12:47.552115Z",
          "iopub.status.idle": "2023-06-23T05:12:47.561912Z",
          "shell.execute_reply": "2023-06-23T05:12:47.560751Z",
          "shell.execute_reply.started": "2023-06-23T05:12:47.552512Z"
        },
        "id": "jD1dxOa-mPq-",
        "trusted": true
      },
      "outputs": [],
      "source": [
        "def model_evaluation(model):\n",
        "    model.fit(X_train,y_train)\n",
        "    y_pred = model.predict(X_test_2)\n",
        "\n",
        "    accuracy = accuracy_score(y_test_2, y_pred)\n",
        "    recall = recall_score(y_test_2, y_pred)\n",
        "    precision = precision_score(y_test_2, y_pred)\n",
        "    print(\"Recall: \", recall)\n",
        "    print(\"Precision: \", precision)\n",
        "    print(\"Accuracy: \", accuracy)\n",
        "\n",
        "    cross = pd.crosstab(pd.Series(y_test_2, name='Actual'), pd.Series(y_pred, name='Predicted'))\n",
        "    plt.figure(figsize=(5, 5))\n",
        "    sns.heatmap(cross, annot=True,fmt='d', cmap=\"YlGnBu\")\n",
        "    plt.show()\n",
        "\n",
        "    return {'Recall' : recall}"
      ]
    },
    {
      "cell_type": "code",
      "execution_count": null,
      "metadata": {
        "execution": {
          "iopub.execute_input": "2023-06-23T05:12:47.563813Z",
          "iopub.status.busy": "2023-06-23T05:12:47.563399Z",
          "iopub.status.idle": "2023-06-23T05:12:47.578134Z",
          "shell.execute_reply": "2023-06-23T05:12:47.577021Z",
          "shell.execute_reply.started": "2023-06-23T05:12:47.563772Z"
        },
        "id": "G6WA_EfqmPq-",
        "trusted": true
      },
      "outputs": [],
      "source": [
        "results = {}"
      ]
    },
    {
      "cell_type": "markdown",
      "metadata": {
        "id": "U1QB4lF1mPq-"
      },
      "source": [
        "## Random Forest Model"
      ]
    },
    {
      "cell_type": "code",
      "execution_count": null,
      "metadata": {
        "execution": {
          "iopub.execute_input": "2023-06-23T05:12:47.580181Z",
          "iopub.status.busy": "2023-06-23T05:12:47.579711Z",
          "iopub.status.idle": "2023-06-23T05:13:41.730513Z",
          "shell.execute_reply": "2023-06-23T05:13:41.729651Z",
          "shell.execute_reply.started": "2023-06-23T05:12:47.580138Z"
        },
        "id": "hQyFlQdgmPq-",
        "trusted": true
      },
      "outputs": [],
      "source": [
        "from sklearn.ensemble import RandomForestClassifier\n",
        "\n",
        "rf = RandomForestClassifier(random_state=11)\n",
        "\n",
        "results['Random Forest Model'] = model_evaluation(rf)"
      ]
    },
    {
      "cell_type": "markdown",
      "metadata": {
        "id": "3MBciIRwmPq-"
      },
      "source": [
        "## Visualizing the rules present in the tree"
      ]
    },
    {
      "cell_type": "code",
      "execution_count": null,
      "metadata": {
        "execution": {
          "iopub.execute_input": "2023-06-23T05:13:41.732524Z",
          "iopub.status.busy": "2023-06-23T05:13:41.731747Z",
          "iopub.status.idle": "2023-06-23T05:13:41.763275Z",
          "shell.execute_reply": "2023-06-23T05:13:41.762134Z",
          "shell.execute_reply.started": "2023-06-23T05:13:41.732488Z"
        },
        "id": "jH3gC2dymPq-",
        "trusted": true
      },
      "outputs": [],
      "source": [
        "from sklearn.tree import export_text\n",
        "feature_names = list(X.columns)\n",
        "\n",
        "print(export_text(rf.estimators_[99],feature_names=feature_names))"
      ]
    },
    {
      "cell_type": "code",
      "execution_count": null,
      "metadata": {
        "execution": {
          "iopub.execute_input": "2023-06-23T05:13:41.765882Z",
          "iopub.status.busy": "2023-06-23T05:13:41.764669Z",
          "iopub.status.idle": "2023-06-23T05:14:55.824774Z",
          "shell.execute_reply": "2023-06-23T05:14:55.823684Z",
          "shell.execute_reply.started": "2023-06-23T05:13:41.765844Z"
        },
        "id": "ThufB7jomPq-",
        "trusted": true
      },
      "outputs": [],
      "source": [
        "from xgboost import XGBClassifier\n",
        "\n",
        "xgbc = XGBClassifier()\n",
        "\n",
        "results['XGBoost Classifier'] = model_evaluation(xgbc)"
      ]
    },
    {
      "cell_type": "code",
      "execution_count": null,
      "metadata": {
        "execution": {
          "iopub.execute_input": "2023-06-23T05:14:55.827298Z",
          "iopub.status.busy": "2023-06-23T05:14:55.826238Z",
          "iopub.status.idle": "2023-06-23T05:15:31.241278Z",
          "shell.execute_reply": "2023-06-23T05:15:31.23996Z",
          "shell.execute_reply.started": "2023-06-23T05:14:55.827239Z"
        },
        "id": "nbYu0EscmPq-",
        "trusted": true
      },
      "outputs": [],
      "source": [
        "viz_model = dtreeviz.model(xgbc,tree_index=1,\n",
        "                           X_train=X_train, y_train=y_train,\n",
        "                           feature_names=feature_names)\n",
        "viz_model.view()"
      ]
    },
    {
      "cell_type": "code",
      "execution_count": null,
      "metadata": {
        "execution": {
          "iopub.execute_input": "2023-06-23T05:15:31.243094Z",
          "iopub.status.busy": "2023-06-23T05:15:31.242749Z",
          "iopub.status.idle": "2023-06-23T05:15:34.805787Z",
          "shell.execute_reply": "2023-06-23T05:15:34.804624Z",
          "shell.execute_reply.started": "2023-06-23T05:15:31.243064Z"
        },
        "id": "xHo6O5ZrmPq-",
        "trusted": true
      },
      "outputs": [],
      "source": [
        "from lightgbm import LGBMClassifier\n",
        "\n",
        "lgbc = LGBMClassifier()\n",
        "\n",
        "results['Light GBM Classifier'] = model_evaluation(lgbc)"
      ]
    },
    {
      "cell_type": "code",
      "execution_count": null,
      "metadata": {
        "execution": {
          "iopub.execute_input": "2023-06-23T05:15:34.809825Z",
          "iopub.status.busy": "2023-06-23T05:15:34.80946Z",
          "iopub.status.idle": "2023-06-23T05:15:35.880896Z",
          "shell.execute_reply": "2023-06-23T05:15:35.879747Z",
          "shell.execute_reply.started": "2023-06-23T05:15:34.809794Z"
        },
        "id": "LftRtnWLmPq-",
        "trusted": true
      },
      "outputs": [],
      "source": [
        "import lightgbm\n",
        "\n",
        "lightgbm.plot_tree(lgbc,figsize = (20,12))\n",
        "plt.show()"
      ]
    },
    {
      "cell_type": "code",
      "execution_count": null,
      "metadata": {
        "execution": {
          "iopub.execute_input": "2023-06-23T05:15:35.888437Z",
          "iopub.status.busy": "2023-06-23T05:15:35.887743Z",
          "iopub.status.idle": "2023-06-23T05:15:35.900438Z",
          "shell.execute_reply": "2023-06-23T05:15:35.899318Z",
          "shell.execute_reply.started": "2023-06-23T05:15:35.888394Z"
        },
        "id": "lGGoakdUmPq_",
        "trusted": true
      },
      "outputs": [],
      "source": [
        "comparision = pd.DataFrame(results)\n",
        "comparision"
      ]
    },
    {
      "cell_type": "markdown",
      "metadata": {
        "id": "b5k8mW4UmPq_"
      },
      "source": [
        "## Hypothesis testing:\n",
        "#### Wilcoxon rank sum test:\n",
        "* The Wilcoxon rank sum test is a non-parametric test, which means that it does not assume that the data is normally distributed. The Wilcoxon rank sum test will calculate a Z-statistic and a p-value. The Z-statistic is a measure of how much variation there is between the three recall scores. The p-value is a measure of the probability of getting a result as extreme as the one observed, if the null hypothesis is true. The null hypothesis is the hypothesis that there is no difference in the recall of the three models. If the p-value is less than 0.05, then we can reject the null hypothesis and conclude that there is a statistically significant difference in the recall of the three models.  "
      ]
    },
    {
      "cell_type": "code",
      "execution_count": null,
      "metadata": {
        "execution": {
          "iopub.execute_input": "2023-06-23T05:15:35.90251Z",
          "iopub.status.busy": "2023-06-23T05:15:35.902061Z",
          "iopub.status.idle": "2023-06-23T05:15:35.914585Z",
          "shell.execute_reply": "2023-06-23T05:15:35.913354Z",
          "shell.execute_reply.started": "2023-06-23T05:15:35.902469Z"
        },
        "id": "-H-4koTTmPq_",
        "trusted": true
      },
      "outputs": [],
      "source": [
        "from scipy.stats import wilcoxon\n",
        "\n",
        "z_statistic, p_value = wilcoxon([comparision.iloc[0][0], comparision.iloc[0][1], comparision.iloc[0][2]])\n",
        "\n",
        "# Print the results\n",
        "print('Z-statistic:', z_statistic)\n",
        "print('p-value:', p_value)\n",
        "\n",
        "# Interpret the results\n",
        "if p_value < 0.05:\n",
        "    print('The difference in the recall of the three models is statistically significant.')\n",
        "else:\n",
        "    print('The difference in the recall of the three models is not statistically significant.')\n"
      ]
    },
    {
      "cell_type": "markdown",
      "metadata": {
        "id": "eD1gmqrJmPq_"
      },
      "source": [
        "* Any of the three models can be applied to identify the important features to predict the cyber attacks."
      ]
    },
    {
      "cell_type": "markdown",
      "metadata": {
        "id": "y4Zjt8MmmPq_"
      },
      "source": [
        "## Correlations\n",
        "\n",
        "* To improve our understanding of the variables involved in cyber attack detection, we need to analyze the network data. Correlation diagrams can be helpful in visualizing how different variables are associated with each other and with cyber attacks. Additionally, random forest models can help identify the importance of different features in predicting the target variable (cyber attacks). We can compare the feature rankings from the random forest with the results of the correlation analysis to gain a better understanding of the key features to focus on for effective cyber attack detection."
      ]
    },
    {
      "cell_type": "code",
      "execution_count": null,
      "metadata": {
        "execution": {
          "iopub.execute_input": "2023-06-23T05:15:35.916126Z",
          "iopub.status.busy": "2023-06-23T05:15:35.915804Z",
          "iopub.status.idle": "2023-06-23T05:15:39.811644Z",
          "shell.execute_reply": "2023-06-23T05:15:39.810562Z",
          "shell.execute_reply.started": "2023-06-23T05:15:35.916098Z"
        },
        "id": "Zp92Q_9ymPq_",
        "trusted": true
      },
      "outputs": [],
      "source": [
        "plt.figure(figsize=(12, 10))\n",
        "mask = np.triu(np.ones_like(df.corr(), dtype=np.bool))\n",
        "sns.heatmap(df.corr(),vmin=-1, vmax=1,cmap='BrBG', mask=mask)\n",
        "plt.show()"
      ]
    },
    {
      "cell_type": "markdown",
      "metadata": {
        "id": "RldXUqwCmPq_"
      },
      "source": [
        "### Correlation of variables with cyber attack (label)"
      ]
    },
    {
      "cell_type": "code",
      "execution_count": null,
      "metadata": {
        "execution": {
          "iopub.execute_input": "2023-06-23T05:15:39.814252Z",
          "iopub.status.busy": "2023-06-23T05:15:39.813591Z",
          "iopub.status.idle": "2023-06-23T05:15:41.974126Z",
          "shell.execute_reply": "2023-06-23T05:15:41.973282Z",
          "shell.execute_reply.started": "2023-06-23T05:15:39.814212Z"
        },
        "id": "Ix9vsrk-mPq_",
        "trusted": true
      },
      "outputs": [],
      "source": [
        "plt.figure(figsize=(10, 10))\n",
        "heatmap = sns.heatmap(df.corr()[['label']].sort_values(by='label', ascending=False), vmin=-1, vmax=1, annot=True, cmap='BrBG')\n",
        "heatmap.set_title('Features Correlating with the Label', fontdict={'fontsize':18}, pad=16)\n",
        "plt.show()"
      ]
    },
    {
      "cell_type": "markdown",
      "metadata": {
        "id": "xHNLknEPmPq_"
      },
      "source": [
        "### The following variables are positively correlated with cyber attacks:\n",
        "\n",
        "* sttl: Source to destination time to live value.\n",
        "* ct_state_ttl and state: These features reflect various stages of TCP connections and may be related to port scanning, SYN flood, or DDoS attacks.\n",
        "* ct_dst_sport_ltm: This feature measures the number of connections from the same source IP to the same destination port in a short time period.\n",
        "* rate: This feature may represent various types of traffic rates or frequencies.\n",
        "\n",
        "### The following variables are negatively correlated with cyber attacks:\n",
        "\n",
        "* swin\n",
        "* dload"
      ]
    },
    {
      "cell_type": "markdown",
      "metadata": {
        "id": "vXLwmBOSmPq_"
      },
      "source": [
        "## Feature Ranking from Random Forest"
      ]
    },
    {
      "cell_type": "code",
      "execution_count": null,
      "metadata": {
        "execution": {
          "iopub.execute_input": "2023-06-23T05:15:41.976008Z",
          "iopub.status.busy": "2023-06-23T05:15:41.975208Z",
          "iopub.status.idle": "2023-06-23T05:15:42.025384Z",
          "shell.execute_reply": "2023-06-23T05:15:42.024424Z",
          "shell.execute_reply.started": "2023-06-23T05:15:41.975977Z"
        },
        "id": "NqwnZWI7mPrA",
        "trusted": true
      },
      "outputs": [],
      "source": [
        "feature_imp = pd.DataFrame({'Name':X.columns, 'Importance':rf.feature_importances_})\n",
        "\n",
        "feature_imp = feature_imp.sort_values('Importance',ascending=False).reset_index(drop=True)\n",
        "\n",
        "feature_imp[:10].style.background_gradient()"
      ]
    },
    {
      "cell_type": "code",
      "execution_count": null,
      "metadata": {
        "execution": {
          "iopub.execute_input": "2023-06-23T05:15:42.026778Z",
          "iopub.status.busy": "2023-06-23T05:15:42.026501Z",
          "iopub.status.idle": "2023-06-23T05:15:42.472942Z",
          "shell.execute_reply": "2023-06-23T05:15:42.471709Z",
          "shell.execute_reply.started": "2023-06-23T05:15:42.026754Z"
        },
        "id": "JHxs6wXsmPrA",
        "trusted": true
      },
      "outputs": [],
      "source": [
        "feat_importances = pd.Series(rf.feature_importances_, index=X.columns)\n",
        "feat_importances.nlargest(20).plot(kind='barh',color=['g','b']*5)\n",
        "plt.show()"
      ]
    },
    {
      "cell_type": "markdown",
      "metadata": {
        "id": "MlDD7SeymPrA"
      },
      "source": [
        "### Let's select only the top 10 features and find their associations with the type of cyber attack.\n"
      ]
    },
    {
      "cell_type": "code",
      "execution_count": null,
      "metadata": {
        "execution": {
          "iopub.execute_input": "2023-06-23T05:15:42.47456Z",
          "iopub.status.busy": "2023-06-23T05:15:42.474231Z",
          "iopub.status.idle": "2023-06-23T05:15:42.48215Z",
          "shell.execute_reply": "2023-06-23T05:15:42.481324Z",
          "shell.execute_reply.started": "2023-06-23T05:15:42.474532Z"
        },
        "id": "qZg4vmUomPrA",
        "trusted": true
      },
      "outputs": [],
      "source": [
        "top10= feature_imp.Name[:10].tolist()\n",
        "top10"
      ]
    },
    {
      "cell_type": "code",
      "execution_count": null,
      "metadata": {
        "execution": {
          "iopub.execute_input": "2023-06-23T05:15:42.4838Z",
          "iopub.status.busy": "2023-06-23T05:15:42.483468Z",
          "iopub.status.idle": "2023-06-23T05:16:18.824373Z",
          "shell.execute_reply": "2023-06-23T05:16:18.823323Z",
          "shell.execute_reply.started": "2023-06-23T05:15:42.48377Z"
        },
        "id": "fTNo1T3fmPrA",
        "trusted": true
      },
      "outputs": [],
      "source": [
        "X = df[top10]\n",
        "y = df['label'].values\n",
        "\n",
        "rf_top10 = RandomForestClassifier(random_state=11)\n",
        "\n",
        "X_train, X_test, y_train, y_test = train_test_split(X, y, test_size=0.3, random_state=11)\n",
        "\n",
        "rf_top10.fit(X_train, y_train)\n",
        "\n",
        "y_pred = rf_top10.predict(X_test)\n",
        "\n",
        "acc = accuracy_score(y_test, y_pred)\n",
        "print(\"Accuracy: \", acc)\n"
      ]
    },
    {
      "cell_type": "code",
      "execution_count": null,
      "metadata": {
        "execution": {
          "iopub.execute_input": "2023-06-23T05:16:18.826616Z",
          "iopub.status.busy": "2023-06-23T05:16:18.825951Z",
          "iopub.status.idle": "2023-06-23T05:16:50.790248Z",
          "shell.execute_reply": "2023-06-23T05:16:50.789029Z",
          "shell.execute_reply.started": "2023-06-23T05:16:18.826574Z"
        },
        "id": "SdaZYSaxmPrA",
        "trusted": true
      },
      "outputs": [],
      "source": [
        "\n",
        "top10= feature_imp.Name[:10].tolist()\n",
        "\n",
        "attack_names = np.array(df['attack_cat'].unique())\n",
        "\n",
        "X_top = df.loc[:, df.columns.isin(top10)]\n",
        "y_top = pd.factorize(df['attack_cat'])[0]\n",
        "\n",
        "\n",
        "clf_top10 = DecisionTreeClassifier(max_depth=6)\n",
        "\n",
        "X_train_top, X_test_top, y_train_top, y_test_top = train_test_split(X_top, y_top, test_size=0.3, random_state=11)\n",
        "\n",
        "clf_top10.fit(X_train_top, y_train_top)\n",
        "\n",
        "viz_model = dtreeviz.model(clf_top10,\n",
        "                           X_train=X_train_top, y_train=y_train_top,\n",
        "                           class_names=attack_names,\n",
        "                           feature_names=top10)\n",
        "\n",
        "viz_model.view(fancy=False,scale=1)"
      ]
    },
    {
      "cell_type": "markdown",
      "metadata": {
        "id": "DydjYrY-mPrA"
      },
      "source": [
        "## Random Forest With Attack Category As the Prediction Labels\n"
      ]
    },
    {
      "cell_type": "code",
      "execution_count": null,
      "metadata": {
        "execution": {
          "iopub.execute_input": "2023-06-23T05:16:50.791857Z",
          "iopub.status.busy": "2023-06-23T05:16:50.791548Z",
          "iopub.status.idle": "2023-06-23T05:17:31.376365Z",
          "shell.execute_reply": "2023-06-23T05:17:31.375176Z",
          "shell.execute_reply.started": "2023-06-23T05:16:50.791829Z"
        },
        "id": "Yg6OrkTxmPrA",
        "trusted": true
      },
      "outputs": [],
      "source": [
        "top10= feature_imp.Name[:10].tolist()\n",
        "\n",
        "X = df.loc[:, df.columns.isin(top10)]\n",
        "\n",
        "y = df['attack_cat'].values\n",
        "\n",
        "X_train, X_test, y_train, y_test = train_test_split(X, y, test_size=0.3, random_state=11)\n",
        "\n",
        "rf = RandomForestClassifier(random_state=11,min_samples_leaf= 1, min_samples_split= 5, n_estimators= 100)\n",
        "\n",
        "rf.fit(X_train, y_train)\n",
        "\n",
        "y_pred = rf.predict(X_test)\n",
        "\n",
        "acc = accuracy_score(y_test, y_pred)\n",
        "print(\"Accuracy: \", acc)\n",
        "\n",
        "cross = pd.crosstab(y_test,  y_pred)\n",
        "plt.figure(figsize=(10, 10))\n",
        "sns.heatmap(cross, annot=True,fmt='d', cmap=\"YlGnBu\")\n",
        "plt.show()\n"
      ]
    },
    {
      "cell_type": "code",
      "execution_count": null,
      "metadata": {
        "execution": {
          "iopub.execute_input": "2023-06-23T05:17:31.378896Z",
          "iopub.status.busy": "2023-06-23T05:17:31.378024Z",
          "iopub.status.idle": "2023-06-23T05:17:33.915348Z",
          "shell.execute_reply": "2023-06-23T05:17:33.914542Z",
          "shell.execute_reply.started": "2023-06-23T05:17:31.378854Z"
        },
        "id": "KUc5MSfDmPrA",
        "trusted": true
      },
      "outputs": [],
      "source": [
        "from sklearn.metrics import classification_report\n",
        "print(classification_report(y_test,y_pred))"
      ]
    },
    {
      "cell_type": "markdown",
      "metadata": {
        "id": "O2aDAI06mPrA"
      },
      "source": [
        "* Generic, Normal, and Exploits attacks have high recalls."
      ]
    },
    {
      "cell_type": "code",
      "execution_count": null,
      "metadata": {
        "execution": {
          "iopub.execute_input": "2023-06-23T05:17:33.917135Z",
          "iopub.status.busy": "2023-06-23T05:17:33.916437Z",
          "iopub.status.idle": "2023-06-23T05:17:37.716397Z",
          "shell.execute_reply": "2023-06-23T05:17:37.715302Z",
          "shell.execute_reply.started": "2023-06-23T05:17:33.917105Z"
        },
        "id": "iMdbzTWamPrA",
        "trusted": true
      },
      "outputs": [],
      "source": [
        "from sklearn.metrics import multilabel_confusion_matrix\n",
        "mcm = multilabel_confusion_matrix(y_test,y_pred)\n",
        "for i,j in zip(mcm,df['attack_cat'].value_counts().index):\n",
        "    plt.subplots(figsize = (5,3))\n",
        "    sns.heatmap(i,annot=True,fmt = 'd',cmap = \"PiYG\")\n",
        "    plt.title(j)"
      ]
    },
    {
      "cell_type": "markdown",
      "metadata": {
        "id": "CeP-Hc6SmPrA"
      },
      "source": [
        "* Fuzzers, Reconaissance, and Analysis has true negatives and false negatives."
      ]
    },
    {
      "cell_type": "markdown",
      "metadata": {
        "id": "4juFfctImPrB"
      },
      "source": [
        "## Conclusion\n",
        "\n",
        "* The Random Forest Model is best for cyber attack detection.\n",
        "* Decision Tree Model was used to identify the rules of cyber attack detection.\n",
        "* From this analysis, most important features were identified which has major role in cyber attack detection.\n",
        "* Random Forest Model is performing well in accuracy with both dependent feature, label and attack category."
      ]
    }
  ],
  "metadata": {
    "colab": {
      "name": "Cyber Attack Detection with Random Forest ",
      "provenance": []
    },
    "kernelspec": {
      "display_name": "Python 3",
      "language": "python",
      "name": "python3"
    },
    "language_info": {
      "codemirror_mode": {
        "name": "ipython",
        "version": 3
      },
      "file_extension": ".py",
      "mimetype": "text/x-python",
      "name": "python",
      "nbconvert_exporter": "python",
      "pygments_lexer": "ipython3",
      "version": "3.12.5"
    }
  },
  "nbformat": 4,
  "nbformat_minor": 0
}
